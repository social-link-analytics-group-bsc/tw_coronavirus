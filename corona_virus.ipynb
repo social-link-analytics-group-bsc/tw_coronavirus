{
 "cells": [
  {
   "cell_type": "markdown",
   "metadata": {},
   "source": [
    "# Coronavirus"
   ]
  },
  {
   "cell_type": "markdown",
   "metadata": {},
   "source": [
    "Explore discussions on Twitter about coronavirus."
   ]
  },
  {
   "cell_type": "markdown",
   "metadata": {},
   "source": [
    "## Import libraries"
   ]
  },
  {
   "cell_type": "code",
   "execution_count": 92,
   "metadata": {},
   "outputs": [],
   "source": [
    "import pandas as pd\n",
    "import numpy as np\n",
    "import matplotlib.pyplot as plt\n",
    "import seaborn as sns\n",
    "import os\n",
    "\n",
    "from datetime import date\n",
    "\n",
    "plt.style.use('seaborn')"
   ]
  },
  {
   "cell_type": "markdown",
   "metadata": {},
   "source": [
    "## Load data"
   ]
  },
  {
   "cell_type": "code",
   "execution_count": 235,
   "metadata": {},
   "outputs": [],
   "source": [
    "tweets = pd.read_csv('data/tweets_010119_250120.csv', parse_dates=['formatted_date'])"
   ]
  },
  {
   "cell_type": "code",
   "execution_count": 237,
   "metadata": {},
   "outputs": [
    {
     "data": {
      "text/plain": [
       "(321180, 20)"
      ]
     },
     "execution_count": 237,
     "metadata": {},
     "output_type": "execute_result"
    }
   ],
   "source": [
    "tweets.shape"
   ]
  },
  {
   "cell_type": "markdown",
   "metadata": {},
   "source": [
    "## Process data"
   ]
  },
  {
   "cell_type": "code",
   "execution_count": 238,
   "metadata": {},
   "outputs": [],
   "source": [
    "# remove columns used in the search\n",
    "tweets.drop(['key', 'key_group', 'key_mention', 'key_group_mention'], axis=1, inplace=True)"
   ]
  },
  {
   "cell_type": "code",
   "execution_count": 239,
   "metadata": {},
   "outputs": [],
   "source": [
    "# rename columns\n",
    "tweets.rename(columns={'date': 'datetime', 'formatted_date': 'formatted_datetime'}, inplace=True)"
   ]
  },
  {
   "cell_type": "code",
   "execution_count": 240,
   "metadata": {},
   "outputs": [
    {
     "data": {
      "text/html": [
       "<div>\n",
       "<style scoped>\n",
       "    .dataframe tbody tr th:only-of-type {\n",
       "        vertical-align: middle;\n",
       "    }\n",
       "\n",
       "    .dataframe tbody tr th {\n",
       "        vertical-align: top;\n",
       "    }\n",
       "\n",
       "    .dataframe thead th {\n",
       "        text-align: right;\n",
       "    }\n",
       "</style>\n",
       "<table border=\"1\" class=\"dataframe\">\n",
       "  <thead>\n",
       "    <tr style=\"text-align: right;\">\n",
       "      <th></th>\n",
       "      <th>tweet_id</th>\n",
       "      <th>user_id</th>\n",
       "      <th>tweet</th>\n",
       "      <th>datetime</th>\n",
       "      <th>formatted_datetime</th>\n",
       "      <th>retweets</th>\n",
       "      <th>favorites</th>\n",
       "      <th>mentions</th>\n",
       "      <th>hashtags</th>\n",
       "      <th>geo</th>\n",
       "      <th>urls</th>\n",
       "      <th>permalink</th>\n",
       "      <th>username</th>\n",
       "      <th>lang</th>\n",
       "      <th>tweet_length</th>\n",
       "      <th>word_count</th>\n",
       "    </tr>\n",
       "  </thead>\n",
       "  <tbody>\n",
       "    <tr>\n",
       "      <th>0</th>\n",
       "      <td>1220134080932696072</td>\n",
       "      <td>1057027456765452293</td>\n",
       "      <td>The continuing 2019-nCoV epidemic threat of no...</td>\n",
       "      <td>2020-01-23 01:00:08</td>\n",
       "      <td>2020-01-23 01:00:08+00:00</td>\n",
       "      <td>0</td>\n",
       "      <td>0</td>\n",
       "      <td>NaN</td>\n",
       "      <td>#science #research</td>\n",
       "      <td>NaN</td>\n",
       "      <td>https://www.ncbi.nlm.nih.gov/m/pubmed/31953166/</td>\n",
       "      <td>https://twitter.com/researchphilia/status/1220...</td>\n",
       "      <td>researchphilia</td>\n",
       "      <td>es</td>\n",
       "      <td>273</td>\n",
       "      <td>36</td>\n",
       "    </tr>\n",
       "    <tr>\n",
       "      <th>1</th>\n",
       "      <td>1220134674887892993</td>\n",
       "      <td>165080514</td>\n",
       "      <td>BREAKING: The Wuhan #coronavirus most likely c...</td>\n",
       "      <td>2020-01-23 01:02:30</td>\n",
       "      <td>2020-01-23 01:02:30+00:00</td>\n",
       "      <td>174</td>\n",
       "      <td>188</td>\n",
       "      <td>NaN</td>\n",
       "      <td>#coronavirus #2019nCoV #WuhanCoronavirus #wuha...</td>\n",
       "      <td>NaN</td>\n",
       "      <td>https://onlinelibrary.wiley.com/doi/abs/10.100...</td>\n",
       "      <td>https://twitter.com/richardvolle/status/122013...</td>\n",
       "      <td>richardvolle</td>\n",
       "      <td>es</td>\n",
       "      <td>219</td>\n",
       "      <td>22</td>\n",
       "    </tr>\n",
       "    <tr>\n",
       "      <th>2</th>\n",
       "      <td>1220134704529190913</td>\n",
       "      <td>1102688399570452480</td>\n",
       "      <td>Lo más correcto sería ponerle \" 2019-nCoV \", y...</td>\n",
       "      <td>2020-01-23 01:02:37</td>\n",
       "      <td>2020-01-23 01:02:37+00:00</td>\n",
       "      <td>0</td>\n",
       "      <td>0</td>\n",
       "      <td>NaN</td>\n",
       "      <td>NaN</td>\n",
       "      <td>NaN</td>\n",
       "      <td>NaN</td>\n",
       "      <td>https://twitter.com/FauReyC/status/12201347045...</td>\n",
       "      <td>FauReyC</td>\n",
       "      <td>es</td>\n",
       "      <td>147</td>\n",
       "      <td>24</td>\n",
       "    </tr>\n",
       "    <tr>\n",
       "      <th>3</th>\n",
       "      <td>1220135328050184192</td>\n",
       "      <td>1663541358</td>\n",
       "      <td>No existe vacuna ni tratamiento disponible par...</td>\n",
       "      <td>2020-01-23 01:05:05</td>\n",
       "      <td>2020-01-23 01:05:05+00:00</td>\n",
       "      <td>0</td>\n",
       "      <td>0</td>\n",
       "      <td>NaN</td>\n",
       "      <td>#recomendaciones #coronavirus</td>\n",
       "      <td>NaN</td>\n",
       "      <td>http://ow.ly/2trt50y2pAa</td>\n",
       "      <td>https://twitter.com/QuadratinMexico/status/122...</td>\n",
       "      <td>QuadratinMexico</td>\n",
       "      <td>es</td>\n",
       "      <td>180</td>\n",
       "      <td>25</td>\n",
       "    </tr>\n",
       "    <tr>\n",
       "      <th>4</th>\n",
       "      <td>1220135597320409089</td>\n",
       "      <td>223226324</td>\n",
       "      <td>New analysis on @biorxivpreprint from Michael ...</td>\n",
       "      <td>2020-01-23 01:06:10</td>\n",
       "      <td>2020-01-23 01:06:10+00:00</td>\n",
       "      <td>3</td>\n",
       "      <td>6</td>\n",
       "      <td>@biorxivpreprint @NIH</td>\n",
       "      <td>#2019nCoV</td>\n",
       "      <td>NaN</td>\n",
       "      <td>https://www.biorxiv.org/content/10.1101/2020.0...</td>\n",
       "      <td>https://twitter.com/nycbat/status/122013559732...</td>\n",
       "      <td>nycbat</td>\n",
       "      <td>es</td>\n",
       "      <td>176</td>\n",
       "      <td>21</td>\n",
       "    </tr>\n",
       "  </tbody>\n",
       "</table>\n",
       "</div>"
      ],
      "text/plain": [
       "              tweet_id              user_id  \\\n",
       "0  1220134080932696072  1057027456765452293   \n",
       "1  1220134674887892993            165080514   \n",
       "2  1220134704529190913  1102688399570452480   \n",
       "3  1220135328050184192           1663541358   \n",
       "4  1220135597320409089            223226324   \n",
       "\n",
       "                                               tweet             datetime  \\\n",
       "0  The continuing 2019-nCoV epidemic threat of no...  2020-01-23 01:00:08   \n",
       "1  BREAKING: The Wuhan #coronavirus most likely c...  2020-01-23 01:02:30   \n",
       "2  Lo más correcto sería ponerle \" 2019-nCoV \", y...  2020-01-23 01:02:37   \n",
       "3  No existe vacuna ni tratamiento disponible par...  2020-01-23 01:05:05   \n",
       "4  New analysis on @biorxivpreprint from Michael ...  2020-01-23 01:06:10   \n",
       "\n",
       "         formatted_datetime  retweets  favorites               mentions  \\\n",
       "0 2020-01-23 01:00:08+00:00         0          0                    NaN   \n",
       "1 2020-01-23 01:02:30+00:00       174        188                    NaN   \n",
       "2 2020-01-23 01:02:37+00:00         0          0                    NaN   \n",
       "3 2020-01-23 01:05:05+00:00         0          0                    NaN   \n",
       "4 2020-01-23 01:06:10+00:00         3          6  @biorxivpreprint @NIH   \n",
       "\n",
       "                                            hashtags  geo  \\\n",
       "0                                 #science #research  NaN   \n",
       "1  #coronavirus #2019nCoV #WuhanCoronavirus #wuha...  NaN   \n",
       "2                                                NaN  NaN   \n",
       "3                      #recomendaciones #coronavirus  NaN   \n",
       "4                                          #2019nCoV  NaN   \n",
       "\n",
       "                                                urls  \\\n",
       "0    https://www.ncbi.nlm.nih.gov/m/pubmed/31953166/   \n",
       "1  https://onlinelibrary.wiley.com/doi/abs/10.100...   \n",
       "2                                                NaN   \n",
       "3                           http://ow.ly/2trt50y2pAa   \n",
       "4  https://www.biorxiv.org/content/10.1101/2020.0...   \n",
       "\n",
       "                                           permalink         username lang  \\\n",
       "0  https://twitter.com/researchphilia/status/1220...   researchphilia   es   \n",
       "1  https://twitter.com/richardvolle/status/122013...     richardvolle   es   \n",
       "2  https://twitter.com/FauReyC/status/12201347045...          FauReyC   es   \n",
       "3  https://twitter.com/QuadratinMexico/status/122...  QuadratinMexico   es   \n",
       "4  https://twitter.com/nycbat/status/122013559732...           nycbat   es   \n",
       "\n",
       "   tweet_length  word_count  \n",
       "0           273          36  \n",
       "1           219          22  \n",
       "2           147          24  \n",
       "3           180          25  \n",
       "4           176          21  "
      ]
     },
     "execution_count": 240,
     "metadata": {},
     "output_type": "execute_result"
    }
   ],
   "source": [
    "tweets.head()"
   ]
  },
  {
   "cell_type": "code",
   "execution_count": 241,
   "metadata": {},
   "outputs": [],
   "source": [
    "# remove empty rows\n",
    "tweets.dropna();"
   ]
  },
  {
   "cell_type": "code",
   "execution_count": 242,
   "metadata": {},
   "outputs": [
    {
     "data": {
      "text/plain": [
       "(321180, 16)"
      ]
     },
     "execution_count": 242,
     "metadata": {},
     "output_type": "execute_result"
    }
   ],
   "source": [
    "tweets.shape"
   ]
  },
  {
   "cell_type": "code",
   "execution_count": 243,
   "metadata": {},
   "outputs": [],
   "source": [
    "# remove duplicates\n",
    "unique_tweet_ids = tweets.tweet_id.unique()\n",
    "tweets.drop_duplicates(subset='tweet_id', keep='first', inplace = True) "
   ]
  },
  {
   "cell_type": "code",
   "execution_count": 247,
   "metadata": {},
   "outputs": [],
   "source": [
    "assert tweets.shape[0]==len(unique_tweet_ids), 'Drop duplicate operation failed!'"
   ]
  },
  {
   "cell_type": "code",
   "execution_count": 248,
   "metadata": {},
   "outputs": [],
   "source": [
    "# create a date colum\n",
    "tweets['date'] = tweets.loc[:,'formatted_datetime'].dt.date"
   ]
  },
  {
   "cell_type": "markdown",
   "metadata": {},
   "source": [
    "Filter out tweets that are older than 31st December 2019, date of the [first reported case](https://www.who.int/emergencies/diseases/novel-coronavirus-2019) of coronavirus"
   ]
  },
  {
   "cell_type": "code",
   "execution_count": 249,
   "metadata": {},
   "outputs": [],
   "source": [
    "start_date = date(2019, 12, 31)\n",
    "start_date = pd.to_datetime(start_date, utc=False)\n",
    "tweets = tweets[tweets['date'] >= start_date]"
   ]
  },
  {
   "cell_type": "code",
   "execution_count": 250,
   "metadata": {},
   "outputs": [
    {
     "data": {
      "text/plain": [
       "(317399, 17)"
      ]
     },
     "execution_count": 250,
     "metadata": {},
     "output_type": "execute_result"
    }
   ],
   "source": [
    "tweets.shape"
   ]
  },
  {
   "cell_type": "markdown",
   "metadata": {},
   "source": [
    "## Evolution of tweets over time"
   ]
  },
  {
   "cell_type": "code",
   "execution_count": 251,
   "metadata": {},
   "outputs": [],
   "source": [
    "# group tweets by date\n",
    "tweets_by_date = tweets.groupby('date', as_index=False).count()"
   ]
  },
  {
   "cell_type": "code",
   "execution_count": 253,
   "metadata": {},
   "outputs": [
    {
     "data": {
      "image/png": "[encoded data removed]",
      "text/plain": [
       "<Figure size 1296x576 with 1 Axes>"
      ]
     },
     "metadata": {},
     "output_type": "display_data"
    }
   ],
   "source": [
    "plt.figure(figsize=(18,8))\n",
    "x_dates = list(pd.to_datetime(tweets_by_date['date']).dt.strftime('%d-%m-%Y'))\n",
    "y_counts = list(tweets_by_date['tweet_id'])\n",
    "fig = sns.lineplot(x=x_dates, y=y_counts, color='green')\n",
    "fig.set(xlabel='Fecha', ylabel='Tweets')\n",
    "sns.set_style(\"dark\", {'axes.grid': True})\n",
    "fig.set_xticklabels(labels=x_dates, rotation=90)\n",
    "plt.fill_between(x_dates, y_counts, alpha=0.5, color='green')\n",
    "plt.show()\n",
    "#fig.get_figure().savefig(\"tweets_over_time.png\", dpi=200, quality=95, bbox_inches=\"tight\")"
   ]
  },
  {
   "cell_type": "markdown",
   "metadata": {},
   "source": [
    "Let's explore what happened from 20-01-2020 onwards"
   ]
  },
  {
   "cell_type": "code",
   "execution_count": 254,
   "metadata": {},
   "outputs": [],
   "source": [
    "start_date = pd.to_datetime(date(2020, 1, 21), utc=False)\n",
    "end_date = pd.to_datetime(date(2020, 1, 23), utc=False)\n",
    "tweets_bulk_period = tweets[(tweets['date'] >= start_date) & (tweets['date'] >= start_date)]"
   ]
  },
  {
   "cell_type": "code",
   "execution_count": 255,
   "metadata": {},
   "outputs": [
    {
     "data": {
      "text/plain": [
       "(292911, 17)"
      ]
     },
     "execution_count": 255,
     "metadata": {},
     "output_type": "execute_result"
    }
   ],
   "source": [
    "tweets_bulk_period.shape"
   ]
  },
  {
   "cell_type": "code",
   "execution_count": 256,
   "metadata": {},
   "outputs": [
    {
     "name": "stdout",
     "output_type": "stream",
     "text": [
      "92.0% of all tweets were generated during this period\n"
     ]
    }
   ],
   "source": [
    "print('{}% of all tweets were generated during this period'.format(\n",
    "    round(100*tweets_bulk_period.shape[0]/tweets.shape[0], 0)))"
   ]
  },
  {
   "cell_type": "markdown",
   "metadata": {},
   "source": [
    "Top-10 most retweets tweets"
   ]
  },
  {
   "cell_type": "code",
   "execution_count": 257,
   "metadata": {},
   "outputs": [
    {
     "name": "stderr",
     "output_type": "stream",
     "text": [
      "/home/jorge/Dropbox/Development/bsc/tw_coronovavirus/env/lib/python3.6/site-packages/ipykernel_launcher.py:1: SettingWithCopyWarning: \n",
      "A value is trying to be set on a copy of a slice from a DataFrame\n",
      "\n",
      "See the caveats in the documentation: https://pandas.pydata.org/pandas-docs/stable/user_guide/indexing.html#returning-a-view-versus-a-copy\n",
      "  \"\"\"Entry point for launching an IPython kernel.\n"
     ]
    }
   ],
   "source": [
    "tweets_bulk_period.sort_values('retweets', inplace=True, ascending=False)"
   ]
  },
  {
   "cell_type": "code",
   "execution_count": 264,
   "metadata": {},
   "outputs": [
    {
     "data": {
      "text/html": [
       "<div>\n",
       "<style scoped>\n",
       "    .dataframe tbody tr th:only-of-type {\n",
       "        vertical-align: middle;\n",
       "    }\n",
       "\n",
       "    .dataframe tbody tr th {\n",
       "        vertical-align: top;\n",
       "    }\n",
       "\n",
       "    .dataframe thead th {\n",
       "        text-align: right;\n",
       "    }\n",
       "</style>\n",
       "<table border=\"1\" class=\"dataframe\">\n",
       "  <thead>\n",
       "    <tr style=\"text-align: right;\">\n",
       "      <th></th>\n",
       "      <th>date</th>\n",
       "      <th>username</th>\n",
       "      <th>tweet_id</th>\n",
       "      <th>tweet</th>\n",
       "      <th>lang</th>\n",
       "      <th>retweets</th>\n",
       "    </tr>\n",
       "  </thead>\n",
       "  <tbody>\n",
       "    <tr>\n",
       "      <th>85175</th>\n",
       "      <td>2020-01-23</td>\n",
       "      <td>siwuol_</td>\n",
       "      <td>1220259934488547328</td>\n",
       "      <td>rt to save life #coronavirus pic.twitter.com/x...</td>\n",
       "      <td>es</td>\n",
       "      <td>187737</td>\n",
       "    </tr>\n",
       "    <tr>\n",
       "      <th>71257</th>\n",
       "      <td>2020-01-23</td>\n",
       "      <td>988Patrick</td>\n",
       "      <td>1220190098878271490</td>\n",
       "      <td>It’s not a joke . Share guys and stay safe #co...</td>\n",
       "      <td>es</td>\n",
       "      <td>95927</td>\n",
       "    </tr>\n",
       "    <tr>\n",
       "      <th>131236</th>\n",
       "      <td>2020-01-23</td>\n",
       "      <td>noirisaesthetic</td>\n",
       "      <td>1220378320333766656</td>\n",
       "      <td>มึงงง อันนี้คือข้างถนนเลย คนติดเชื้อ #ไวรัสโคโ...</td>\n",
       "      <td>es</td>\n",
       "      <td>48295</td>\n",
       "    </tr>\n",
       "    <tr>\n",
       "      <th>83964</th>\n",
       "      <td>2020-01-23</td>\n",
       "      <td>Naturezlife</td>\n",
       "      <td>1220255527705272320</td>\n",
       "      <td>”ทำไม #coronavirus สามารถแพร่กระจายอย่างรวดเร็...</td>\n",
       "      <td>es</td>\n",
       "      <td>23123</td>\n",
       "    </tr>\n",
       "    <tr>\n",
       "      <th>161375</th>\n",
       "      <td>2020-01-23</td>\n",
       "      <td>thelastjaedi</td>\n",
       "      <td>1220430582653640704</td>\n",
       "      <td>please read this and stay safe everyone #Coron...</td>\n",
       "      <td>es</td>\n",
       "      <td>22426</td>\n",
       "    </tr>\n",
       "    <tr>\n",
       "      <th>141062</th>\n",
       "      <td>2020-01-23</td>\n",
       "      <td>noirisaesthetic</td>\n",
       "      <td>1220394986836856832</td>\n",
       "      <td>อันนี้วูบล้มกันเห็นๆ เลย เหมือนว่าตอนนี้เหตุกา...</td>\n",
       "      <td>es</td>\n",
       "      <td>16983</td>\n",
       "    </tr>\n",
       "    <tr>\n",
       "      <th>8202</th>\n",
       "      <td>2020-01-21</td>\n",
       "      <td>bongtao</td>\n",
       "      <td>1219452062347350018</td>\n",
       "      <td>ตอนนี้ใครมีหน้ากากกันฝุ่น ใส่ตลอดเวลาที่อยู่ใน...</td>\n",
       "      <td>es</td>\n",
       "      <td>16970</td>\n",
       "    </tr>\n",
       "    <tr>\n",
       "      <th>26306</th>\n",
       "      <td>2020-01-21</td>\n",
       "      <td>formidableme_</td>\n",
       "      <td>1219655559302934529</td>\n",
       "      <td>SO ANG TRUE REASON SA BREAK-UP NG JADINE AY No...</td>\n",
       "      <td>es</td>\n",
       "      <td>15013</td>\n",
       "    </tr>\n",
       "    <tr>\n",
       "      <th>53260</th>\n",
       "      <td>2020-01-22</td>\n",
       "      <td>not_irvin</td>\n",
       "      <td>1219766920641052672</td>\n",
       "      <td>Kailan kaya mas magiging affected ang mga Fili...</td>\n",
       "      <td>es</td>\n",
       "      <td>11900</td>\n",
       "    </tr>\n",
       "    <tr>\n",
       "      <th>66994</th>\n",
       "      <td>2020-01-23</td>\n",
       "      <td>LamYikFei</td>\n",
       "      <td>1220174573338906624</td>\n",
       "      <td>Hong Kong’s first Wuhan coronavirus patient. 2...</td>\n",
       "      <td>es</td>\n",
       "      <td>11487</td>\n",
       "    </tr>\n",
       "  </tbody>\n",
       "</table>\n",
       "</div>"
      ],
      "text/plain": [
       "              date         username             tweet_id  \\\n",
       "85175   2020-01-23          siwuol_  1220259934488547328   \n",
       "71257   2020-01-23       988Patrick  1220190098878271490   \n",
       "131236  2020-01-23  noirisaesthetic  1220378320333766656   \n",
       "83964   2020-01-23      Naturezlife  1220255527705272320   \n",
       "161375  2020-01-23     thelastjaedi  1220430582653640704   \n",
       "141062  2020-01-23  noirisaesthetic  1220394986836856832   \n",
       "8202    2020-01-21          bongtao  1219452062347350018   \n",
       "26306   2020-01-21    formidableme_  1219655559302934529   \n",
       "53260   2020-01-22        not_irvin  1219766920641052672   \n",
       "66994   2020-01-23        LamYikFei  1220174573338906624   \n",
       "\n",
       "                                                    tweet lang  retweets  \n",
       "85175   rt to save life #coronavirus pic.twitter.com/x...   es    187737  \n",
       "71257   It’s not a joke . Share guys and stay safe #co...   es     95927  \n",
       "131236  มึงงง อันนี้คือข้างถนนเลย คนติดเชื้อ #ไวรัสโคโ...   es     48295  \n",
       "83964   ”ทำไม #coronavirus สามารถแพร่กระจายอย่างรวดเร็...   es     23123  \n",
       "161375  please read this and stay safe everyone #Coron...   es     22426  \n",
       "141062  อันนี้วูบล้มกันเห็นๆ เลย เหมือนว่าตอนนี้เหตุกา...   es     16983  \n",
       "8202    ตอนนี้ใครมีหน้ากากกันฝุ่น ใส่ตลอดเวลาที่อยู่ใน...   es     16970  \n",
       "26306   SO ANG TRUE REASON SA BREAK-UP NG JADINE AY No...   es     15013  \n",
       "53260   Kailan kaya mas magiging affected ang mga Fili...   es     11900  \n",
       "66994   Hong Kong’s first Wuhan coronavirus patient. 2...   es     11487  "
      ]
     },
     "execution_count": 264,
     "metadata": {},
     "output_type": "execute_result"
    }
   ],
   "source": [
    "tweets_bulk_period[['date', 'username', 'tweet_id', 'tweet', 'lang' ,'retweets']].head(10)"
   ]
  }
 ],
 "metadata": {
  "kernelspec": {
   "display_name": "Python 3",
   "language": "python",
   "name": "python3"
  },
  "language_info": {
   "codemirror_mode": {
    "name": "ipython",
    "version": 3
   },
   "file_extension": ".py",
   "mimetype": "text/x-python",
   "name": "python",
   "nbconvert_exporter": "python",
   "pygments_lexer": "ipython3",
   "version": "3.6.9"
  }
 },
 "nbformat": 4,
 "nbformat_minor": 4
}
