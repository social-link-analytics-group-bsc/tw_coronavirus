{
 "cells": [
  {
   "cell_type": "markdown",
   "metadata": {},
   "source": [
    "# Optimize dataset column types to save memory"
   ]
  },
  {
   "cell_type": "markdown",
   "metadata": {},
   "source": [
    "Below operations that can be used to optimize the type of columns in the dataset in order to save memory. Ideas were taken from this [post](https://www.dataquest.io/blog/pandas-big-data/)."
   ]
  },
  {
   "cell_type": "markdown",
   "metadata": {},
   "source": [
    "## Load libraries"
   ]
  },
  {
   "cell_type": "code",
   "execution_count": 1,
   "metadata": {},
   "outputs": [],
   "source": [
    "# Load libraries\n",
    "import pandas as pd"
   ]
  },
  {
   "cell_type": "markdown",
   "metadata": {},
   "source": [
    "## Define global functions"
   ]
  },
  {
   "cell_type": "code",
   "execution_count": 2,
   "metadata": {},
   "outputs": [],
   "source": [
    "# Function that computes the memory usage\n",
    "def mem_usage(pandas_obj):\n",
    "    if isinstance(pandas_obj,pd.DataFrame):\n",
    "        usage_b = pandas_obj.memory_usage(deep=True).sum()\n",
    "    else: # we assume if not a df it's a series\n",
    "        usage_b = pandas_obj.memory_usage(deep=True)\n",
    "    usage_mb = usage_b / 1024 ** 2 # convert bytes to megabytes\n",
    "    return '{:03.2f} MB'.format(usage_mb)"
   ]
  },
  {
   "cell_type": "markdown",
   "metadata": {},
   "source": [
    "## Load data"
   ]
  },
  {
   "cell_type": "code",
   "execution_count": 3,
   "metadata": {},
   "outputs": [],
   "source": [
    "file_name = 'ours_2019-01-01_to_2020-02-22_coronavirus(es-en)_tweets.csv'"
   ]
  },
  {
   "cell_type": "code",
   "execution_count": 4,
   "metadata": {},
   "outputs": [],
   "source": [
    "tweets = pd.read_csv('data/'+file_name, parse_dates=['date','formatted_date'])"
   ]
  },
  {
   "cell_type": "markdown",
   "metadata": {},
   "source": [
    "## Memory saving operations"
   ]
  },
  {
   "cell_type": "code",
   "execution_count": 5,
   "metadata": {},
   "outputs": [
    {
     "name": "stdout",
     "output_type": "stream",
     "text": [
      "<class 'pandas.core.frame.DataFrame'>\n",
      "RangeIndex: 4740401 entries, 0 to 4740400\n",
      "Data columns (total 22 columns):\n",
      " #   Column             Dtype              \n",
      "---  ------             -----              \n",
      " 0   tweet_id           int64              \n",
      " 1   user_id            int64              \n",
      " 2   tweet              object             \n",
      " 3   key                object             \n",
      " 4   key_group          object             \n",
      " 5   date               datetime64[ns]     \n",
      " 6   formatted_date     datetime64[ns, UTC]\n",
      " 7   retweets           int64              \n",
      " 8   favorites          int64              \n",
      " 9   mentions           object             \n",
      " 10  hashtags           object             \n",
      " 11  geo                float64            \n",
      " 12  urls               object             \n",
      " 13  permalink          object             \n",
      " 14  username           object             \n",
      " 15  key_mention        object             \n",
      " 16  key_group_mention  object             \n",
      " 17  lang               object             \n",
      " 18  tweet_length       int64              \n",
      " 19  tweet_word_count   int64              \n",
      " 20  hashtags_count     int64              \n",
      " 21  mentions_count     int64              \n",
      "dtypes: datetime64[ns, UTC](1), datetime64[ns](1), float64(1), int64(8), object(11)\n",
      "memory usage: 5.5 GB\n"
     ]
    }
   ],
   "source": [
    "# Check memory information about the dataset\n",
    "tweets.info(memory_usage='deep')"
   ]
  },
  {
   "cell_type": "code",
   "execution_count": 6,
   "metadata": {},
   "outputs": [
    {
     "name": "stdout",
     "output_type": "stream",
     "text": [
      "Average memory usage for float columns: 18.08 MB\n",
      "Average memory usage for int columns: 32.15 MB\n",
      "Average memory usage for object columns: 438.98 MB\n"
     ]
    }
   ],
   "source": [
    "# Check how much memory is occupied by each data type\n",
    "for dtype in ['float','int','object']:\n",
    "    selected_dtype = tweets.select_dtypes(include=[dtype])\n",
    "    mean_usage_b = selected_dtype.memory_usage(deep=True).mean()\n",
    "    mean_usage_mb = mean_usage_b / 1024 ** 2\n",
    "    print('Average memory usage for {} columns: {:03.2f} MB'.format(dtype,mean_usage_mb))"
   ]
  },
  {
   "cell_type": "code",
   "execution_count": 7,
   "metadata": {},
   "outputs": [
    {
     "name": "stdout",
     "output_type": "stream",
     "text": [
      "Memory usage of original int columns:\n",
      "289.33 MB\n",
      "Memory usage of converted int columns:\n",
      "131.10 MB\n"
     ]
    }
   ],
   "source": [
    "# Optimize int columns by downcasting them\n",
    "tweets_int = tweets.select_dtypes(include=['int'])\n",
    "converted_int = tweets_int.apply(pd.to_numeric, downcast='unsigned')\n",
    "print('Memory usage of original int columns:')\n",
    "print(mem_usage(tweets_int))\n",
    "print('Memory usage of converted int columns:')\n",
    "print(mem_usage(converted_int))\n",
    "tweets[converted_int.columns] = converted_int"
   ]
  },
  {
   "cell_type": "code",
   "execution_count": 8,
   "metadata": {},
   "outputs": [
    {
     "name": "stdout",
     "output_type": "stream",
     "text": [
      "Memory usage of original float columns: 36.17 MB\n",
      "Memory usage of converted float columns: 18.08 MB\n"
     ]
    }
   ],
   "source": [
    "# Optimize float columns by downcasting them\n",
    "tweets_float = tweets.select_dtypes(include=['float'])\n",
    "converted_float = tweets_float.apply(pd.to_numeric, downcast='float')\n",
    "print('Memory usage of original float columns: {}'.format(mem_usage(tweets_float)))\n",
    "print('Memory usage of converted float columns: {}'.format(mem_usage(converted_float)))\n",
    "tweets[converted_float.columns] = converted_float"
   ]
  },
  {
   "cell_type": "code",
   "execution_count": 9,
   "metadata": {},
   "outputs": [
    {
     "name": "stdout",
     "output_type": "stream",
     "text": [
      "Total memory after downcasting int and float columns: 5489.33 MB\n"
     ]
    }
   ],
   "source": [
    "# Check how much memory we have saved after previous operations\n",
    "print('Total memory after downcasting int and float columns: {}'.format(mem_usage(tweets)))"
   ]
  },
  {
   "cell_type": "code",
   "execution_count": 10,
   "metadata": {},
   "outputs": [
    {
     "name": "stdout",
     "output_type": "stream",
     "text": [
      "Memory usage of original object columns: 5858.06 MB\n",
      "Memory usage of converted object columns: 3541.84 MB\n",
      "7 object columns were converted in the process\n"
     ]
    }
   ],
   "source": [
    "# Optimize object types using categoricals\n",
    "tweets_obj = tweets.select_dtypes(include=['object']).copy()\n",
    "converted_obj = pd.DataFrame()\n",
    "threshold_unique_values = 0.2\n",
    "converted_cols = 0\n",
    "for col in tweets_obj.columns:\n",
    "    num_unique_values = len(tweets_obj[col].unique())\n",
    "    num_total_values = len(tweets_obj[col])\n",
    "    if num_unique_values / num_total_values < threshold_unique_values:\n",
    "        converted_obj.loc[:,col] = tweets_obj[col].astype('category')\n",
    "        converted_cols += 1\n",
    "    else:\n",
    "        converted_obj.loc[:,col] = tweets_obj[col]\n",
    "print('Memory usage of original object columns: {}'.format(mem_usage(tweets_obj)))\n",
    "print('Memory usage of converted object columns: {}'.format(mem_usage(converted_obj)))\n",
    "tweets[converted_obj.columns] = converted_obj\n",
    "print('{} object columns were converted in the process'.format(converted_cols))"
   ]
  },
  {
   "cell_type": "code",
   "execution_count": 11,
   "metadata": {},
   "outputs": [
    {
     "name": "stdout",
     "output_type": "stream",
     "text": [
      "Total memory after converting some object columns to categorical columns: 3763.36 MB\n"
     ]
    }
   ],
   "source": [
    "# Check how much memory we have saved after previous operations\n",
    "print('Total memory after converting some object columns to categorical columns: {}'.format(mem_usage(tweets)))"
   ]
  },
  {
   "cell_type": "code",
   "execution_count": null,
   "metadata": {},
   "outputs": [],
   "source": [
    "# in case we want to optimize datetime types, no needed here\n",
    "# date = optimized_tweets.date\n",
    "# print(mem_usage(date))\n",
    "# optimized_tweets['date'] = pd.to_datetime(date,format='%Y-%m-%d %H:%M:%S')\n",
    "# print(mem_usage(optimized_tweets))"
   ]
  },
  {
   "cell_type": "code",
   "execution_count": 12,
   "metadata": {},
   "outputs": [
    {
     "name": "stdout",
     "output_type": "stream",
     "text": [
      "Use the following columns types when reading the CSV file:\n",
      "{'tweet_id': 'uint64', 'user_id': 'uint64', 'tweet': 'object', 'key': 'category', 'key_group': 'category', 'retweets': 'uint32', 'favorites': 'uint32', 'mentions': 'category', 'hashtags': 'category', 'geo': 'float32', 'urls': 'object', 'permalink': 'object', 'username': 'object', 'key_mention': 'category', 'key_group_mention': 'category', 'lang': 'category', 'tweet_length': 'uint16', 'tweet_word_count': 'uint8', 'hashtags_count': 'uint8', 'mentions_count': 'uint8'}\n"
     ]
    }
   ],
   "source": [
    "# Show final types\n",
    "dtypes = tweets.drop(['date', 'formatted_date'], axis=1).dtypes\n",
    "dtypes_col = dtypes.index\n",
    "dtypes_type = [i.name for i in dtypes.values]\n",
    "column_types = dict(zip(dtypes_col, dtypes_type))\n",
    "print('Use the following columns types when reading the CSV file:')\n",
    "print(column_types)"
   ]
  }
 ],
 "metadata": {
  "kernelspec": {
   "display_name": "Python 3",
   "language": "python",
   "name": "python3"
  },
  "language_info": {
   "codemirror_mode": {
    "name": "ipython",
    "version": 3
   },
   "file_extension": ".py",
   "mimetype": "text/x-python",
   "name": "python",
   "nbconvert_exporter": "python",
   "pygments_lexer": "ipython3",
   "version": "3.7.1"
  }
 },
 "nbformat": 4,
 "nbformat_minor": 4
}
